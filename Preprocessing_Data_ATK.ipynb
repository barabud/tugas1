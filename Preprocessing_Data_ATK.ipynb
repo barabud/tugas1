{
  "nbformat": 4,
  "nbformat_minor": 0,
  "metadata": {
    "colab": {
      "provenance": [],
      "authorship_tag": "ABX9TyO132Ukw7I6zXJcu28FqvNE",
      "include_colab_link": true
    },
    "kernelspec": {
      "name": "python3",
      "display_name": "Python 3"
    },
    "language_info": {
      "name": "python"
    }
  },
  "cells": [
    {
      "cell_type": "markdown",
      "metadata": {
        "id": "view-in-github",
        "colab_type": "text"
      },
      "source": [
        "<a href=\"https://colab.research.google.com/github/barabud/tugas1/blob/main/Preprocessing_Data_ATK.ipynb\" target=\"_parent\"><img src=\"https://colab.research.google.com/assets/colab-badge.svg\" alt=\"Open In Colab\"/></a>"
      ]
    },
    {
      "cell_type": "code",
      "execution_count": 82,
      "metadata": {
        "id": "dtT38jP_p-eX"
      },
      "outputs": [],
      "source": [
        "import numpy as np\n",
        "import matplotlib.pyplot as plt\n",
        "import pandas as pd"
      ]
    },
    {
      "cell_type": "markdown",
      "source": [
        "Perintah ini digunakan untuk import library\n",
        "\n",
        "import numpy as np // pustaka NumPy, digunakan untuk komputasi numerik.\n",
        "import matplotlib.pyplot as plt // pustaka Matplotlib, digunakan untuk membuat grafik dan visualisasi data.\n",
        "import pandas as pd // pustaka Pandas, digunakan untuk manipulasi dan analisis data."
      ],
      "metadata": {
        "id": "v0elfwy30s-7"
      }
    },
    {
      "cell_type": "code",
      "source": [
        "dataset = pd.read_csv('ATK.csv')\n",
        "x = dataset.iloc[:, :-1].values\n",
        "y = dataset.iloc[:, -1].values"
      ],
      "metadata": {
        "id": "t10PQG-RqIbO"
      },
      "execution_count": 83,
      "outputs": []
    },
    {
      "cell_type": "markdown",
      "source": [
        "- pd.read_csv('ReservasiHotel.csv'): Membaca file CSV bernama ATK.csv ke dalam DataFrame Pandas.\n",
        "- dataset: Menyimpan data dari CSV dalam bentuk tabel.\n",
        "\n",
        "\n",
        "- x: Berisi fitur (variabel independen) dari dataset.\n",
        "- dataset.iloc[:, :-1]: Mengambil semua baris (:) dan semua kolom kecuali yang terakhir (:-1).\n",
        "- .values: Mengubah hasilnya menjadi array NumPy.\n",
        "\n",
        "\n",
        "- y: Berisi target/output (variabel dependen).\n",
        "- dataset.iloc[:, -1]: Mengambil semua baris (:) dari kolom terakhir (-1).\n",
        "- .values: Mengonversi ke array NumPy.\n"
      ],
      "metadata": {
        "id": "E5_5D1m20ubK"
      }
    },
    {
      "cell_type": "code",
      "source": [
        "print(x)"
      ],
      "metadata": {
        "colab": {
          "base_uri": "https://localhost:8080/"
        },
        "id": "m6auYijPqJbM",
        "outputId": "83a0e371-9a3f-4506-a2a5-55bfd8664fad"
      },
      "execution_count": 84,
      "outputs": [
        {
          "output_type": "stream",
          "name": "stdout",
          "text": [
            "[['Buku' 1.0 10000.0]\n",
            " ['Pensil' 1.0 5000.0]\n",
            " ['Spidol' 2.0 25000.0]\n",
            " ['Penggaris' 4.0 30000.0]\n",
            " ['Pulpen' 3.0 nan]\n",
            " ['Penghapus' 5.0 45000.0]\n",
            " ['Binder' 1.0 25000.0]\n",
            " ['Cutter' nan 30000.0]\n",
            " ['Gunting' 3.0 45000.0]]\n"
          ]
        }
      ]
    },
    {
      "cell_type": "markdown",
      "source": [
        "Menampilkan array x"
      ],
      "metadata": {
        "id": "YgfIl_so00SK"
      }
    },
    {
      "cell_type": "code",
      "source": [
        "from sklearn.impute import SimpleImputer\n",
        "imputer = SimpleImputer(missing_values=np.nan, strategy='mean')\n",
        "imputer.fit(x[:, 1:3])\n",
        "x[:, 1:3] = imputer.transform(x[:, 1:3])"
      ],
      "metadata": {
        "id": "RvABLEulcx97"
      },
      "execution_count": 86,
      "outputs": []
    },
    {
      "cell_type": "markdown",
      "source": [
        "- from sklearn.impute import SimpleImputer\n",
        "\n",
        "Mengimpor SimpleImputer dari pustaka sklearn.impute, yang berguna untuk mengisi nilai yang hilang dalam dataset.\n",
        "\n",
        "- imputer = SimpleImputer(missing_values=np.nan, strategy='mean')\n",
        "Membuat objek imputer yang akan mencari nilai NaN (kosong) dalam dataset.\n",
        "\n",
        "Parameter strategy='mean' berarti nilai yang hilang akan diganti dengan rata-rata dari kolom tersebut.\n",
        "\n",
        "- imputer.fit(x[:, 1:3])\n",
        "Melatih (fit) objek imputer pada kolom ke-1 dan ke-2 (indeks 1 dan 2 dari x).\n",
        "\n",
        "Artinya, hanya kolom ke-1 dan ke-2 yang akan diisi dengan rata-rata (mean).\n",
        "\n",
        "- x[:, 1:3] = imputer.transform(x[:, 1:3])\n",
        "Menggunakan transform untuk menggantikan nilai kosong dalam kolom tersebut dengan rata-rata yang sudah dihitung sebelumnya."
      ],
      "metadata": {
        "id": "gc4e4HMG1Eji"
      }
    },
    {
      "cell_type": "code",
      "source": [
        "print(x)"
      ],
      "metadata": {
        "colab": {
          "base_uri": "https://localhost:8080/"
        },
        "id": "c4fHG3KlqbvF",
        "outputId": "94fac1fd-045a-48d4-a01c-c09d57aa8fa1"
      },
      "execution_count": 87,
      "outputs": [
        {
          "output_type": "stream",
          "name": "stdout",
          "text": [
            "[['Buku' 1.0 10000.0]\n",
            " ['Pensil' 1.0 5000.0]\n",
            " ['Spidol' 2.0 25000.0]\n",
            " ['Penggaris' 4.0 30000.0]\n",
            " ['Pulpen' 3.0 26875.0]\n",
            " ['Penghapus' 5.0 45000.0]\n",
            " ['Binder' 1.0 25000.0]\n",
            " ['Cutter' 2.5 30000.0]\n",
            " ['Gunting' 3.0 45000.0]]\n"
          ]
        }
      ]
    },
    {
      "cell_type": "markdown",
      "source": [
        "Menampilkan array x"
      ],
      "metadata": {
        "id": "cQj4c9zN1bT2"
      }
    },
    {
      "cell_type": "code",
      "source": [
        "from sklearn.compose import ColumnTransformer\n",
        "from sklearn.preprocessing import OneHotEncoder\n",
        "ct = ColumnTransformer(transformers=[('encoder', OneHotEncoder(sparse_output=False), [0])], remainder='passthrough')\n",
        "x = np.array(ct.fit_transform(x))"
      ],
      "metadata": {
        "id": "l5MU-z80qdpQ"
      },
      "execution_count": 88,
      "outputs": []
    },
    {
      "cell_type": "markdown",
      "source": [
        "- from sklearn.compose import ColumnTransformer\n",
        "- from sklearn.preprocessing import OneHotEncoder\n",
        "\n",
        "ColumnTransformer memungkinkan kita menerapkan transformasi pada kolom tertentu dari dataset.\n",
        "\n",
        "OneHotEncoder digunakan untuk mengubah data kategorikal menjadi representasi numerik (dalam bentuk vektor biner).\n",
        "\n",
        "- transformers=[('encoder', OneHotEncoder(sparse_output=False), [0])]\n",
        "\n",
        "'encoder' → Nama transformer (boleh bebas, hanya sebagai identifikasi).\n",
        "\n",
        "OneHotEncoder(sparse_output=False) → Mengubah nilai kategorikal menjadi one-hot encoding dalam bentuk array biasa (sparse_output=False agar output bukan dalam bentuk sparse matrix).\n",
        "\n",
        "[0] → Kolom ke-0 (indeks pertama) yang akan diubah menjadi one-hot encoding.\n",
        "\n",
        "- remainder='passthrough'\n",
        "\n",
        "Menjaga kolom lainnya tetap ada tanpa perubahan.\n",
        "\n",
        "- x = np.array(ct.fit_transform(x))\n",
        "\n",
        "fit_transform(x) → Melakukan One-Hot Encoding pada kolom pertama dan mempertahankan kolom lainnya.\n",
        "\n",
        "np.array(...) → Mengonversi hasilnya menjadi array NumPy."
      ],
      "metadata": {
        "id": "i651rBSG1kjC"
      }
    },
    {
      "cell_type": "code",
      "source": [
        "print(x)"
      ],
      "metadata": {
        "colab": {
          "base_uri": "https://localhost:8080/"
        },
        "id": "ktMyz_loqiG-",
        "outputId": "e8fb2b0b-6cfa-473a-8bc2-b4ce5307db02"
      },
      "execution_count": 89,
      "outputs": [
        {
          "output_type": "stream",
          "name": "stdout",
          "text": [
            "[[0.0 1.0 0.0 0.0 0.0 0.0 0.0 0.0 0.0 1.0 10000.0]\n",
            " [0.0 0.0 0.0 0.0 0.0 0.0 1.0 0.0 0.0 1.0 5000.0]\n",
            " [0.0 0.0 0.0 0.0 0.0 0.0 0.0 0.0 1.0 2.0 25000.0]\n",
            " [0.0 0.0 0.0 0.0 1.0 0.0 0.0 0.0 0.0 4.0 30000.0]\n",
            " [0.0 0.0 0.0 0.0 0.0 0.0 0.0 1.0 0.0 3.0 26875.0]\n",
            " [0.0 0.0 0.0 0.0 0.0 1.0 0.0 0.0 0.0 5.0 45000.0]\n",
            " [1.0 0.0 0.0 0.0 0.0 0.0 0.0 0.0 0.0 1.0 25000.0]\n",
            " [0.0 0.0 1.0 0.0 0.0 0.0 0.0 0.0 0.0 2.5 30000.0]\n",
            " [0.0 0.0 0.0 1.0 0.0 0.0 0.0 0.0 0.0 3.0 45000.0]]\n"
          ]
        }
      ]
    },
    {
      "cell_type": "markdown",
      "source": [
        "Menampilkan array x"
      ],
      "metadata": {
        "id": "CkVKth1U1dgx"
      }
    },
    {
      "cell_type": "code",
      "source": [
        "from sklearn.preprocessing import LabelEncoder\n",
        "le = LabelEncoder()\n",
        "y = le.fit_transform(y)"
      ],
      "metadata": {
        "id": "zEFrjAl4qjL8"
      },
      "execution_count": 90,
      "outputs": []
    },
    {
      "cell_type": "markdown",
      "source": [
        "- from sklearn.preprocessing import LabelEncoder\n",
        "Mengimpor LabelEncoder dari sklearn.preprocessing, yang berguna untuk mengonversi label kategorikal menjadi angka.\n",
        "\n",
        "- le = LabelEncoder()\n",
        "Membuat objek LabelEncoder untuk mengubah data target y.\n",
        "\n",
        "- y = le.fit_transform(y)\n",
        "fit_transform(y) melakukan dua hal:\n",
        "\n",
        "Menyesuaikan encoder dengan data dalam y (memetakan kategori unik ke angka).\n",
        "\n",
        "Mengubah setiap kategori menjadi angka yang sesuai."
      ],
      "metadata": {
        "id": "qYrz9rCT2hFl"
      }
    },
    {
      "cell_type": "code",
      "source": [
        "print(y)"
      ],
      "metadata": {
        "colab": {
          "base_uri": "https://localhost:8080/"
        },
        "id": "PWy7KBZXqvD7",
        "outputId": "509f4cc5-b07c-4a6e-f8d4-2a4d7050a1bc"
      },
      "execution_count": 91,
      "outputs": [
        {
          "output_type": "stream",
          "name": "stdout",
          "text": [
            "[1 0 1 1 0 1 0 0 1]\n"
          ]
        }
      ]
    },
    {
      "cell_type": "markdown",
      "source": [
        "Menampilkan array y"
      ],
      "metadata": {
        "id": "5K5iF2X22nyA"
      }
    },
    {
      "cell_type": "code",
      "source": [
        "from sklearn.model_selection import train_test_split\n",
        "x_train, x_test, y_train, y_test = train_test_split(x, y, test_size = 0.2, random_state = 1)"
      ],
      "metadata": {
        "id": "vVGymlcXrDQ2"
      },
      "execution_count": 94,
      "outputs": []
    },
    {
      "cell_type": "markdown",
      "source": [
        "- from sklearn.model_selection import train_test_split\n",
        "\n",
        "Mengimpor train_test_split dari sklearn.model_selection, yang digunakan untuk membagi dataset menjadi data latih dan data uji.\n",
        "\n",
        "-x_train, x_test, y_train, y_test = train_test_split(x, y, test_size = 0.2, random_state = 1)\n",
        "\n",
        "x_train, y_train → Data yang digunakan untuk melatih model.\n",
        "\n",
        "x_test, y_test → Data yang digunakan untuk mengukur performa model"
      ],
      "metadata": {
        "id": "9NB2ciG32305"
      }
    },
    {
      "cell_type": "code",
      "source": [
        "print(x_train)"
      ],
      "metadata": {
        "colab": {
          "base_uri": "https://localhost:8080/"
        },
        "id": "_VhUqZ78rOYh",
        "outputId": "494afb08-b7fb-4f74-dece-d201becdceda"
      },
      "execution_count": 95,
      "outputs": [
        {
          "output_type": "stream",
          "name": "stdout",
          "text": [
            "[[1.0 0.0 0.0 0.0 0.0 0.0 0.0 0.0 0.0 1.0 25000.0]\n",
            " [0.0 0.0 1.0 0.0 0.0 0.0 0.0 0.0 0.0 2.5 30000.0]\n",
            " [0.0 0.0 0.0 0.0 0.0 0.0 1.0 0.0 0.0 1.0 5000.0]\n",
            " [0.0 1.0 0.0 0.0 0.0 0.0 0.0 0.0 0.0 1.0 10000.0]\n",
            " [0.0 0.0 0.0 0.0 0.0 0.0 0.0 1.0 0.0 3.0 26875.0]\n",
            " [0.0 0.0 0.0 0.0 1.0 0.0 0.0 0.0 0.0 4.0 30000.0]\n",
            " [0.0 0.0 0.0 0.0 0.0 1.0 0.0 0.0 0.0 5.0 45000.0]]\n"
          ]
        }
      ]
    },
    {
      "cell_type": "markdown",
      "source": [
        "Menampilkan array x_train"
      ],
      "metadata": {
        "id": "GytG6fLW2pkp"
      }
    },
    {
      "cell_type": "code",
      "source": [
        "print (x_test)"
      ],
      "metadata": {
        "colab": {
          "base_uri": "https://localhost:8080/"
        },
        "id": "iozCTo2Zyfbm",
        "outputId": "c4aca572-9183-4a18-f2c8-17b40cb1aaa8"
      },
      "execution_count": 96,
      "outputs": [
        {
          "output_type": "stream",
          "name": "stdout",
          "text": [
            "[[0.0 0.0 0.0 1.0 0.0 0.0 0.0 0.0 0.0 3.0 45000.0]\n",
            " [0.0 0.0 0.0 0.0 0.0 0.0 0.0 0.0 1.0 2.0 25000.0]]\n"
          ]
        }
      ]
    },
    {
      "cell_type": "markdown",
      "source": [
        "Menampilkan array x_test"
      ],
      "metadata": {
        "id": "CcAsx_fQ2qty"
      }
    },
    {
      "cell_type": "code",
      "source": [
        "print (y_train)"
      ],
      "metadata": {
        "colab": {
          "base_uri": "https://localhost:8080/"
        },
        "id": "1rWMNyOVygQc",
        "outputId": "651c27d3-5e38-4c24-e61f-b92da0551eb0"
      },
      "execution_count": 98,
      "outputs": [
        {
          "output_type": "stream",
          "name": "stdout",
          "text": [
            "[0 0 0 1 0 1 1]\n"
          ]
        }
      ]
    },
    {
      "cell_type": "markdown",
      "source": [
        "Menampilkan array y_train"
      ],
      "metadata": {
        "id": "Iz2N3A2b2rp4"
      }
    },
    {
      "cell_type": "code",
      "source": [
        "print (y_test)"
      ],
      "metadata": {
        "colab": {
          "base_uri": "https://localhost:8080/"
        },
        "id": "9muKZd6ZykjG",
        "outputId": "2aff7fe6-d586-4616-a5d5-d829336d71a0"
      },
      "execution_count": 99,
      "outputs": [
        {
          "output_type": "stream",
          "name": "stdout",
          "text": [
            "[1 1]\n"
          ]
        }
      ]
    },
    {
      "cell_type": "markdown",
      "source": [
        "Menampilkan array y_train"
      ],
      "metadata": {
        "id": "0y9RNBpY2s8x"
      }
    },
    {
      "cell_type": "code",
      "source": [
        "from sklearn.preprocessing import StandardScaler\n",
        "sc = StandardScaler()\n",
        "x_train[:, 3:] = sc.fit_transform(x_train[:, 3:])\n",
        "x_test[:, 3:] = sc.transform(x_test[:, 3:])"
      ],
      "metadata": {
        "id": "yZEw-VWwe2v0"
      },
      "execution_count": 100,
      "outputs": []
    },
    {
      "cell_type": "markdown",
      "source": [
        "- from sklearn.preprocessing import StandardScaler\n",
        "Mengimpor StandardScaler dari sklearn.preprocessing, yang digunakan untuk menstandarisasi fitur numerik.\n",
        "\n",
        "-sc = StandardScaler()\n",
        "Membuat objek StandardScaler untuk melakukan transformasi standar pada data numerik\n",
        "\n",
        "- x_train[:, 3:] = sc.fit_transform(x_train[:, 3:])\n",
        "fit_transform(x_train[:, 3:])\n",
        "\n",
        "fit() menghitung mean (rata-rata) dan standar deviasi dari data latih.\n",
        "\n",
        "- x_test[:, 3:] = sc.transform(x_test[:, 3:])\n",
        "Menggunakan transform() (bukan fit_transform()) pada data uji."
      ],
      "metadata": {
        "id": "b61CMDK03Mc8"
      }
    },
    {
      "cell_type": "code",
      "source": [
        "print(x_train)"
      ],
      "metadata": {
        "colab": {
          "base_uri": "https://localhost:8080/"
        },
        "id": "8TNCRB66y7NG",
        "outputId": "4c460ab3-2965-40ed-d588-34c51f1b9b9c"
      },
      "execution_count": 101,
      "outputs": [
        {
          "output_type": "stream",
          "name": "stdout",
          "text": [
            "[[1.0 0.0 0.0 0.0 -0.40824829046386296 -0.40824829046386296\n",
            "  -0.4082482904638629 -0.40824829046386296 0.0 -1.0080322575483707\n",
            "  0.03598892287471111]\n",
            " [0.0 0.0 1.0 0.0 -0.40824829046386296 -0.40824829046386296\n",
            "  -0.4082482904638629 -0.40824829046386296 0.0 0.0 0.4390648590714746]\n",
            " [0.0 0.0 0.0 0.0 -0.40824829046386296 -0.40824829046386296\n",
            "  2.449489742783178 -0.40824829046386296 0.0 -1.0080322575483707\n",
            "  -1.5763148219123428]\n",
            " [0.0 1.0 0.0 0.0 -0.40824829046386296 -0.40824829046386296\n",
            "  -0.4082482904638629 -0.40824829046386296 0.0 -1.0080322575483707\n",
            "  -1.1732388857155793]\n",
            " [0.0 0.0 0.0 0.0 -0.40824829046386296 -0.40824829046386296\n",
            "  -0.4082482904638629 2.4494897427831783 0.0 0.33601075251612356\n",
            "  0.1871423989484974]\n",
            " [0.0 0.0 0.0 0.0 2.4494897427831783 -0.40824829046386296\n",
            "  -0.4082482904638629 -0.40824829046386296 0.0 1.0080322575483707\n",
            "  0.4390648590714746]\n",
            " [0.0 0.0 0.0 0.0 -0.40824829046386296 2.4494897427831783\n",
            "  -0.4082482904638629 -0.40824829046386296 0.0 1.6800537625806176\n",
            "  1.648292667661765]]\n"
          ]
        }
      ]
    },
    {
      "cell_type": "markdown",
      "source": [
        "Menampilkan array x_train"
      ],
      "metadata": {
        "id": "SNMR4DJ92vvk"
      }
    }
  ]
}