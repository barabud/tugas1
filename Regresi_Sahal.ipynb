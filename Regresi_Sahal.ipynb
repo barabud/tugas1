{
  "nbformat": 4,
  "nbformat_minor": 0,
  "metadata": {
    "colab": {
      "provenance": [],
      "authorship_tag": "ABX9TyPqTCrSgALX+traXmdfG3Yj",
      "include_colab_link": true
    },
    "kernelspec": {
      "name": "python3",
      "display_name": "Python 3"
    },
    "language_info": {
      "name": "python"
    }
  },
  "cells": [
    {
      "cell_type": "markdown",
      "metadata": {
        "id": "view-in-github",
        "colab_type": "text"
      },
      "source": [
        "<a href=\"https://colab.research.google.com/github/barabud/tugas1/blob/main/Regresi_Sahal.ipynb\" target=\"_parent\"><img src=\"https://colab.research.google.com/assets/colab-badge.svg\" alt=\"Open In Colab\"/></a>"
      ]
    },
    {
      "cell_type": "code",
      "execution_count": 2,
      "metadata": {
        "id": "TAosvbrjStcf"
      },
      "outputs": [],
      "source": [
        "# import library\n",
        "from scipy import stats"
      ]
    },
    {
      "cell_type": "code",
      "source": [
        "# X = Usia Mobil (tahun)\n",
        "x = [5, 4, 6, 5, 5, 5, 6, 6, 2, 7, 7]"
      ],
      "metadata": {
        "id": "IjX1EnwkTTkG"
      },
      "execution_count": 3,
      "outputs": []
    },
    {
      "cell_type": "code",
      "source": [
        "# Y = Harga Mobil ($100)\n",
        "y = [85, 103, 70, 82, 89, 98, 66, 95, 169, 70, 48]"
      ],
      "metadata": {
        "id": "ZEjR2LiJTemd"
      },
      "execution_count": 5,
      "outputs": []
    },
    {
      "cell_type": "code",
      "source": [
        "slope, intercept, r, p, std_err = stats.linregress(x, y)"
      ],
      "metadata": {
        "id": "wqL-h8sPThRi"
      },
      "execution_count": 6,
      "outputs": []
    },
    {
      "cell_type": "code",
      "source": [
        "# Fungsi Linear Regresi\n",
        "def myfunc(x):\n",
        "  return slope * x + intercept"
      ],
      "metadata": {
        "id": "gWcjw7r-TmiR"
      },
      "execution_count": 7,
      "outputs": []
    },
    {
      "cell_type": "code",
      "source": [
        "HargaMobil = myfunc(7)"
      ],
      "metadata": {
        "id": "GrqUplOLTsLb"
      },
      "execution_count": 9,
      "outputs": []
    },
    {
      "cell_type": "code",
      "source": [
        "print(HargaMobil)"
      ],
      "metadata": {
        "colab": {
          "base_uri": "https://localhost:8080/"
        },
        "id": "Odwcg66_T2Ul",
        "outputId": "a368e250-61a4-4d85-cf71-084c34933e81"
      },
      "execution_count": 10,
      "outputs": [
        {
          "output_type": "stream",
          "name": "stdout",
          "text": [
            "53.639639639639654\n"
          ]
        }
      ]
    }
  ]
}